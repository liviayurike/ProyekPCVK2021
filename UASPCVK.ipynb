{
 "cells": [
  {
   "cell_type": "code",
   "execution_count": null,
   "metadata": {},
   "outputs": [],
   "source": [
    "import cv2\n",
    "import numpy as np\n",
    "from matplotlib import pyplot as plt\n",
    "\n",
    "img_rgb = cv2.imread('daisy.jpg')\n",
    "img_gray = cv2.cvtColor(img_rgb, cv2.COLOR_BGR2GRAY)\n",
    "template = cv2.imread('daisy2.jpg', 0)\n",
    "\n",
    "height, width = template.shape[::]\n",
    "\n",
    "res = cv2.matchTemplate(img_gray, template, cv2.TM_CCOEFF_NORMED)\n",
    "plt.imshow(res, cmap='gray')\n",
    "\n",
    "threshold = 0.7\n",
    "loc = np.where( res >= threshold)\n",
    "# min_val, max_val, min_loc, max_loc = cv2.minMaxLoc(res)\n",
    "\n",
    "# top_left = min_loc  #Change to max_loc for all except for TM_SQDIFF\n",
    "# bottom_right = (top_left[0] + width, top_left[1] + height)\n",
    "\n",
    "for pt in zip(*loc[::-1]):\n",
    "    image = cv2.rectangle(img_rgb, pt, (pt[0] + width, pt[1] + height), (0, 0, 255), 1) \n",
    "    cv2.putText(image, 'Putik', (pt[0], pt[1]), cv2.FONT_HERSHEY_SIMPLEX, 0.5, (255,0,255), 1)\n",
    "\n",
    "cv2.imshow(\"Matched image\", image)\n",
    "cv2.waitKey()\n",
    "cv2.destroyAllWindows()"
   ]
  },
  {
   "cell_type": "code",
   "execution_count": null,
   "metadata": {},
   "outputs": [],
   "source": [
    "import cv2\n",
    "import numpy as np\n",
    "import matplotlib.pyplot as plt\n",
    "\n",
    "#Baca gambar\n",
    "img = cv2.imread('daisy.jpg')\n",
    "#Konversi RGB ke HSV\n",
    "hsv = cv2.cvtColor(img,cv2.COLOR_BGR2HSV)\n",
    "#Range warna kuning segmentasi/klasifikasi\n",
    "lower = np.array([0, 0, 0], dtype=np.uint8)\n",
    "upper = np.array([255, 255, 230], dtype=np.uint8)\n",
    "mask = cv2.inRange(hsv, lower, upper)\n",
    "kernel = np.ones((30,10),np.uint8)\n",
    "#Dipertembal piksel objek\n",
    "dilation = cv2.dilate(mask,kernel,iterations = 1)\n",
    "#Diperkecil supaya tidak berdempet piksel objeknya\n",
    "erosion = cv2.erode(img,kernel,iterations = 1)\n",
    "#Temukan kontut\n",
    "contours, hierarchy = cv2.findContours(dilation,cv2.RETR_TREE,cv2.CHAIN_APPROX_SIMPLE)\n",
    "#Kopi gambar asli ke variable resultImg\n",
    "resultImg = (img).copy()\n",
    "#Array kontur\n",
    "contour = []\n",
    "#Perulangan untuk kontur\n",
    "for i in range(len(contours)):\n",
    "        #Banyaknya kontur ke variable cnt\n",
    "        cnt = contours[i]\n",
    "        #Mencari radius untuk menggambar lingkaran\n",
    "        (x,y),radius = cv2.minEnclosingCircle(cnt)\n",
    "        #Pusat lingkaran\n",
    "        center = (int(x),int(y))\n",
    "        #Jika radius(kontur ukuran > 1 ) diaanggap kontur jika kurang bukan kontur\n",
    "        if(int(radius) > 1):\n",
    "            contour.append(cnt)\n",
    "            #Gambar lingkaran\n",
    "            resultImg = cv2.circle(resultImg,center,int(radius),(0,0,255),3)\n",
    "#Tampilkan\n",
    "plt.imshow(resultImg);\n",
    "# plt.imshow(dilation);\n",
    "# plt.imshow(erosion);\n",
    "\n",
    "# cv2.imshow('image',resultImg)\n",
    "# cv2.imshow('dil',dilation)\n",
    "# cv2.imshow('er',erosion)\n",
    "# cv2.waitKey(0)\n",
    "# cv2.destroyAllWindows()"
   ]
  },
  {
   "cell_type": "code",
   "execution_count": null,
   "metadata": {},
   "outputs": [],
   "source": []
  },
  {
   "cell_type": "code",
   "execution_count": null,
   "metadata": {},
   "outputs": [],
   "source": []
  }
 ],
 "metadata": {
  "kernelspec": {
   "display_name": "Python 3",
   "language": "python",
   "name": "python3"
  },
  "language_info": {
   "codemirror_mode": {
    "name": "ipython",
    "version": 3
   },
   "file_extension": ".py",
   "mimetype": "text/x-python",
   "name": "python",
   "nbconvert_exporter": "python",
   "pygments_lexer": "ipython3",
   "version": "3.8.5"
  }
 },
 "nbformat": 4,
 "nbformat_minor": 4
}
